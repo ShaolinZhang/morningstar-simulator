{
 "cells": [
  {
   "cell_type": "markdown",
   "metadata": {},
   "source": [
    "# Morningstar Simulator\n",
    "*Shaolin Zhang (sz2804)* and *Yulong Li (yl4095)*\n",
    "\n",
    "Morningstar Simulator is a simulator program that harnesses data from the famed Morningstar Weekly Best Ideas, a stock market recommendation PDF containing a summary of their weekly research into the market. Morningstar is a global financial services firm that provides a wide array of investment research and investment management services.\n",
    "\n",
    "This project simulates different market strategies based on Morningstar's recommendations.\n",
    "\n",
    "Technologies used in this project include the following:\n",
    "\n",
    "- PyPDF2: extracting texts from PDFs\n",
    "- numpy: processing raw data extracted from PyPDF2 into sorted data including stock ticker, rating, target price and more\n",
    "- Yahoo Finance API: extracting time-series data of stocks"
   ]
  },
  {
   "cell_type": "code",
   "execution_count": null,
   "metadata": {},
   "outputs": [],
   "source": []
  }
 ],
 "metadata": {
  "kernelspec": {
   "display_name": "Python 3",
   "language": "python",
   "name": "python3"
  },
  "language_info": {
   "codemirror_mode": {
    "name": "ipython",
    "version": 3
   },
   "file_extension": ".py",
   "mimetype": "text/x-python",
   "name": "python",
   "nbconvert_exporter": "python",
   "pygments_lexer": "ipython3",
   "version": "3.7.0"
  }
 },
 "nbformat": 4,
 "nbformat_minor": 2
}
