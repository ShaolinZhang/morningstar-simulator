{
 "cells": [
  {
   "cell_type": "code",
   "execution_count": 2,
   "metadata": {},
   "outputs": [],
   "source": []
  },
  {
   "cell_type": "code",
   "execution_count": null,
   "metadata": {},
   "outputs": [],
   "source": [
    "from tkinter import *\n",
    "import matplotlib as plb\n",
    "\n",
    "root = Tk()\n",
    "root.geometry('800x600')\n",
    "root.title(\"Morningstar\")\n",
    "\n",
    "lf_threeStarVolume = LabelFrame(root, text = \"3-star Quantity\")\n",
    "lf_threeStarVolume.pack()\n",
    "entry_threeStarVolume = Entry(lf_threeStarVolume, bd = 2)\n",
    "entry_threeStarVolume.pack()\n",
    "        \n",
    "lf_fourStarVolume = LabelFrame(root, text = \"4-star Quantity\")\n",
    "lf_fourStarVolume.pack()\n",
    "entry_fourStarVolume = Entry(lf_fourStarVolume, bd = 2)\n",
    "entry_fourStarVolume.pack()\n",
    "    \n",
    "lf_fiveStarVolume = LabelFrame(root, text = \"5-star Quantity\")\n",
    "lf_fiveStarVolume.pack()\n",
    "entry_fiveStarVolume = Entry(lf_fiveStarVolume, bd = 2)\n",
    "entry_fiveStarVolume.pack()\n",
    "\n",
    "lf_dataRange = LabelFrame(root, text = \"Data Range\")\n",
    "lf_dataRange.pack()\n",
    "dataRange = ['','AAA','BBB']\n",
    "dataRangeSelect = ttk.Combobox(lf_dataRange, values = dataRange)\n",
    "dataRangeSelect.pack()\n",
    "dataRangeSelect.current(1)\n",
    "def callbackFunc(event):\n",
    "    print(\"New Element Selected\", dataRangeSelect.get())    \n",
    "dataRangeSelect.bind(\"<<ComboboxSelected>>\", callbackFunc)\n",
    "\n",
    "lf_purchaseDate = LabelFrame(root, text = \"Purchase Date (YYYY-MM-DD)\")\n",
    "lf_purchaseDate.pack()\n",
    "entry_purchaseDate = Entry(lf_purchaseDate, bd = 2)\n",
    "entry_purchaseDate.pack()\n",
    "\n",
    "\n",
    "lf_TrailingTime = LabelFrame(root, text = \"Trailing Time\")\n",
    "lf_TrailingTime.pack()\n",
    "MODES = [\n",
    "    (\"5 Days\", 5),\n",
    "    (\"1 Month\", 30),\n",
    "    (\"3 Months\", 91),\n",
    "    (\"Half Year\", 180),\n",
    "    (\"1 Year\", 365),\n",
    "]\n",
    "\n",
    "v = StringVar()\n",
    "v.set(5)\n",
    "\n",
    "for text, mode in MODES:\n",
    "    b = Radiobutton(lf_TrailingTime, text = text, variable = v, value = mode)\n",
    "    b.pack(anchor = W)\n",
    "    \n",
    "btn_Submit = Button(root, text = \"Submit\")\n",
    "btn_Submit.pack()\n",
    "\n",
    "root.mainloop()"
   ]
  },
  {
   "cell_type": "code",
   "execution_count": null,
   "metadata": {},
   "outputs": [],
   "source": []
  }
 ],
 "metadata": {
  "kernelspec": {
   "display_name": "Python 3",
   "language": "python",
   "name": "python3"
  },
  "language_info": {
   "codemirror_mode": {
    "name": "ipython",
    "version": 3
   },
   "file_extension": ".py",
   "mimetype": "text/x-python",
   "name": "python",
   "nbconvert_exporter": "python",
   "pygments_lexer": "ipython3",
   "version": "3.7.0"
  }
 },
 "nbformat": 4,
 "nbformat_minor": 2
}
