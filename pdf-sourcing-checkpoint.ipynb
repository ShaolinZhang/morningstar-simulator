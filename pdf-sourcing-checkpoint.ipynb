{
 "cells": [
  {
   "cell_type": "code",
   "execution_count": 158,
   "metadata": {},
   "outputs": [],
   "source": [
    "from tika import parser\n",
    "import os\n",
    "from os import listdir\n",
    "from os.path import isfile, join\n",
    "import re\n",
    "from collections import defaultdict\n",
    "\n",
    "day = \"20180223\"\n",
    "path = \"source-pdf/\""
   ]
  },
  {
   "cell_type": "code",
   "execution_count": 2,
   "metadata": {},
   "outputs": [],
   "source": [
    "def retriveFiles(path):\n",
    "    return [join(path, f) for f in listdir(path) if isfile(join(path, f))]"
   ]
  },
  {
   "cell_type": "code",
   "execution_count": 3,
   "metadata": {},
   "outputs": [],
   "source": [
    "files = retriveFiles(path)"
   ]
  },
  {
   "cell_type": "code",
   "execution_count": 4,
   "metadata": {},
   "outputs": [],
   "source": [
    "import time\n",
    "from datetime import date"
   ]
  },
  {
   "cell_type": "code",
   "execution_count": 209,
   "metadata": {},
   "outputs": [],
   "source": [
    "from PyPDF2 import PdfFileReader, PdfFileWriter\n",
    " \n",
    "def pdf_splitter(path, name):\n",
    "    fname = os.path.splitext(os.path.basename(path))[0]\n",
    " \n",
    "    pdf = PdfFileReader(path)\n",
    "    pdf_writer = PdfFileWriter()\n",
    "    for page in range(pdf.getNumPages()):\n",
    "        if page != 0:\n",
    "            if \"Best Ideas\" in pdf.getPage(page).extractText():\n",
    "                pdf_writer.addPage(pdf.getPage(page))\n",
    "    output_filename = '{}.pdf'.format(name)\n",
    "    with open(output_filename, 'wb') as out:\n",
    "        pdf_writer.write(out)"
   ]
  },
  {
   "cell_type": "code",
   "execution_count": 210,
   "metadata": {},
   "outputs": [],
   "source": [
    "test_path = \"source-pdf/20180302224502_853783_500.pdf\"\n",
    "pdf_splitter(test_path, 'test')"
   ]
  },
  {
   "cell_type": "code",
   "execution_count": 211,
   "metadata": {},
   "outputs": [],
   "source": [
    "def generateDates(files):\n",
    "    root = len(path)\n",
    "    res = []\n",
    "    for file in files:    \n",
    "        dstr = file[root:root+8]\n",
    "        d = date(int(dstr[0:4]),int(dstr[4:6]),int(dstr[6:8]))\n",
    "        res.append(d)\n",
    "        pdf_splitter(file, dstr)\n",
    "    return res"
   ]
  },
  {
   "cell_type": "code",
   "execution_count": null,
   "metadata": {},
   "outputs": [],
   "source": []
  },
  {
   "cell_type": "code",
   "execution_count": 199,
   "metadata": {},
   "outputs": [],
   "source": [
    "days = generateDates(files)"
   ]
  },
  {
   "cell_type": "code",
   "execution_count": 11,
   "metadata": {},
   "outputs": [],
   "source": [
    "def retrieveRatings(files, day):\n",
    "    for file in files:\n",
    "        if day in file:\n",
    "            break\n",
    "    raw = parser.from_file(file)\n",
    "    pattern = '\\(.+\\) Q+'\n",
    "    data_pairs = re.findall(pattern, raw['content'])\n",
    "    res = defaultdict(int)\n",
    "    for data in data_pairs:\n",
    "        pair = data.split(' ');\n",
    "        res[pair[0][1:-1]] = len(pair[1])\n",
    "        \n",
    "    return res\n",
    "    "
   ]
  },
  {
   "cell_type": "code",
   "execution_count": 12,
   "metadata": {},
   "outputs": [],
   "source": [
    "ticker_rating_pair = retrieveRatings(files, day)"
   ]
  },
  {
   "cell_type": "code",
   "execution_count": 13,
   "metadata": {},
   "outputs": [],
   "source": [
    "from pandas_datareader import data\n",
    "import matplotlib.pyplot as plt\n",
    "import pandas as pd\n",
    "from datetime import datetime"
   ]
  },
  {
   "cell_type": "code",
   "execution_count": 79,
   "metadata": {},
   "outputs": [
    {
     "name": "stdout",
     "output_type": "stream",
     "text": [
      "0700 is not public traded in North America stock market, ignored...\n",
      "MSFT: $93.86000061035156\n",
      "^GSPC: $2726.800048828125\n"
     ]
    }
   ],
   "source": [
    "# Define the instruments to download. We would like to see Apple, Microsoft and the S&P500 index.\n",
    "tickers = ['0700', 'MSFT', '^GSPC']\n",
    "\n",
    "# We would like all available data from 01/01/2000 until 12/31/2016.\n",
    "report_date = datetime(2018, 3, 7)\n",
    "end_date = datetime(2018, 3, 15)\n",
    "\n",
    "# User pandas_reader.data.DataReader to load the desired data. As simple as that.\n",
    "panel_data = data.DataReader('MSFT', 'yahoo', report_date, end_date)\n",
    "\n",
    "for ticker in tickers:\n",
    "    try:    \n",
    "        print(ticker, data.DataReader(ticker, 'yahoo', report_date, end_date).iloc[0]['Close'], sep = \": $\")\n",
    "    except:\n",
    "        print(ticker, \" is not public traded in North America stock market, ignored...\", sep = \"\")\n",
    "\n",
    "\n"
   ]
  },
  {
   "cell_type": "code",
   "execution_count": 80,
   "metadata": {},
   "outputs": [
    {
     "data": {
      "text/plain": [
       "['03/07/2018',\n",
       " '03/08/2018',\n",
       " '03/09/2018',\n",
       " '03/12/2018',\n",
       " '03/13/2018',\n",
       " '03/14/2018',\n",
       " '03/15/2018',\n",
       " '03/16/2018']"
      ]
     },
     "execution_count": 80,
     "metadata": {},
     "output_type": "execute_result"
    }
   ],
   "source": [
    "[pd.to_datetime(d).strftime(\"%m/%d/%Y\") for d in list(panel_data.index.values)]"
   ]
  },
  {
   "cell_type": "code",
   "execution_count": 83,
   "metadata": {},
   "outputs": [],
   "source": []
  },
  {
   "cell_type": "code",
   "execution_count": null,
   "metadata": {},
   "outputs": [],
   "source": []
  },
  {
   "cell_type": "code",
   "execution_count": 92,
   "metadata": {},
   "outputs": [],
   "source": [
    "#get open and close prices from yahoo api\n",
    "#return dic {ticker: [rating, [price1, price2, ...]], ...}\n",
    "def getTickerPrices(report_date, end_date, ticker_rating_pair):\n",
    "    res = defaultdict(list)\n",
    "    for ticker, rating in ticker_rating_pair.items():\n",
    "        try:    \n",
    "            price_info = data.DataReader(ticker, 'yahoo', report_date, end_date)\n",
    "            prices = []\n",
    "            for i in range (price_info.shape[0]):\n",
    "                prices.append(price_info.iloc[i]['Close'])\n",
    "            res[ticker] = [rating, prices]\n",
    "        except:\n",
    "            print(ticker, \" is not public traded in North America stock market, ignored...\", sep = \"\")\n",
    "    return res"
   ]
  },
  {
   "cell_type": "code",
   "execution_count": 130,
   "metadata": {},
   "outputs": [],
   "source": [
    "ticker_rating_pair = {'0700': 3, 'MSFT': 3, 'FB': 4}\n",
    "SNP = {'^GSPC': 0}\n"
   ]
  },
  {
   "cell_type": "code",
   "execution_count": 131,
   "metadata": {},
   "outputs": [
    {
     "name": "stdout",
     "output_type": "stream",
     "text": [
      "0700 is not public traded in North America stock market, ignored...\n"
     ]
    },
    {
     "data": {
      "text/plain": [
       "defaultdict(list,\n",
       "            {'MSFT': [3,\n",
       "              [93.86000061035156,\n",
       "               94.43000030517578,\n",
       "               96.54000091552734,\n",
       "               96.7699966430664,\n",
       "               94.41000366210938,\n",
       "               93.8499984741211,\n",
       "               94.18000030517578,\n",
       "               94.5999984741211]],\n",
       "             'FB': [4,\n",
       "              [183.7100067138672,\n",
       "               182.33999633789062,\n",
       "               185.22999572753906,\n",
       "               184.75999450683594,\n",
       "               181.8800048828125,\n",
       "               184.19000244140625,\n",
       "               183.86000061035156,\n",
       "               185.08999633789062]]})"
      ]
     },
     "execution_count": 131,
     "metadata": {},
     "output_type": "execute_result"
    }
   ],
   "source": [
    "ticker_prices = getTickerPrices(report_date, end_date, ticker_rating_pair)\n",
    "snp_prices = getOpenClosePrices(report_date, end_date, SNP)\n",
    "ticker_prices"
   ]
  },
  {
   "cell_type": "code",
   "execution_count": 132,
   "metadata": {},
   "outputs": [],
   "source": [
    "#calculate daily profits\n",
    "#return list [profit1, profit2]\n",
    "#prices: dict {ticker: [rating, [price1, price2, ...]], ...}\n",
    "#shares: dict {3: quantity, 4: quantity, 5: quantity}\n",
    "shares = {0:1200, 3: 300, 4: 400, 5: 500}\n",
    "\n",
    "def calculateProfits(ticker_prices, shares):\n",
    "    balance  = [0] * len(next(iter(ticker_prices.values()))[1])\n",
    "    \n",
    "    for ticker, ops in ticker_prices.items():\n",
    "        rating = ops[0]\n",
    "        prices = ops[1]\n",
    "        for i in range(len(prices)):\n",
    "            balance[i] = balance[i] + prices[i]*shares[rating]\n",
    "    profits_percentage = [0] * len(profits)\n",
    "    for i in range(len(profits)):\n",
    "        profits_percentage[i] = (balance[i]-balance[0])/balance[0]\n",
    "    return profits_percentage"
   ]
  },
  {
   "cell_type": "code",
   "execution_count": 133,
   "metadata": {},
   "outputs": [],
   "source": [
    "profits = calculateProfits(ticker_prices, shares)\n",
    "\n",
    "profits_snp = calculateProfits(snp_prices, shares)"
   ]
  },
  {
   "cell_type": "code",
   "execution_count": null,
   "metadata": {},
   "outputs": [],
   "source": []
  },
  {
   "cell_type": "code",
   "execution_count": 134,
   "metadata": {},
   "outputs": [],
   "source": [
    "def getDealDays(report_date, end_date, ticker):\n",
    "    panel_data = data.DataReader(ticker, 'yahoo', report_date, end_date)\n",
    "    return [pd.to_datetime(d).strftime(\"%m/%d\") for d in list(panel_data.index.values)]"
   ]
  },
  {
   "cell_type": "code",
   "execution_count": 135,
   "metadata": {},
   "outputs": [
    {
     "data": {
      "text/plain": [
       "Text(0.5, 1.0, 'Title')"
      ]
     },
     "execution_count": 135,
     "metadata": {},
     "output_type": "execute_result"
    },
    {
     "data": {
      "image/png": "[encoded data removed]",
      "text/plain": [
       "<Figure size 432x288 with 1 Axes>"
      ]
     },
     "metadata": {
      "needs_background": "light"
     },
     "output_type": "display_data"
    }
   ],
   "source": [
    "deal_days =  getDealDays(report_date, end_date, '^GSPC')\n",
    "l1, = plt.plot(deal_days,profits, label='Morningstar')\n",
    "l2, = plt.plot(deal_days,profits_snp, label='SNP')\n",
    "plt.legend(loc='upper right')\n",
    "plt.title('Title')"
   ]
  },
  {
   "cell_type": "code",
   "execution_count": 154,
   "metadata": {},
   "outputs": [],
   "source": [
    "def getFormatedTickerPrice(ticker_prices, shares):\n",
    "    s = \"Ticker Quantity Open_Price Close_Price\\n\"\n",
    "    for ticker, ops in ticker_prices.items():\n",
    "        ticker = \"{:<6}\".format(ticker)\n",
    "        rating = ops[0]\n",
    "        rating = \"{:<8}\".format(str(shares[rating]))\n",
    "        s = s + ticker + ' ' + rating\n",
    "        prices = ops[1]\n",
    "        open_price = \"{:<10}\".format( str(round(prices[0],2)) )\n",
    "        close_price = \"{:11}\".format( str(round(prices[-1],2)) )\n",
    "        s = s + ' '+  open_price +' '+ close_price\n",
    "        s = s+'\\n'\n",
    "    return s\n",
    "        "
   ]
  },
  {
   "cell_type": "code",
   "execution_count": 155,
   "metadata": {},
   "outputs": [
    {
     "name": "stdout",
     "output_type": "stream",
     "text": [
      "Ticker Quantity Open_Price Close_Price\n",
      "MSFT   300      93.86      94.6       \n",
      "FB     400      183.71     185.09     \n",
      "\n"
     ]
    }
   ],
   "source": [
    "print(getFormatedTickerPrice(ticker_prices, shares))"
   ]
  },
  {
   "cell_type": "code",
   "execution_count": null,
   "metadata": {},
   "outputs": [],
   "source": []
  }
 ],
 "metadata": {
  "kernelspec": {
   "display_name": "Python 3",
   "language": "python",
   "name": "python3"
  },
  "language_info": {
   "codemirror_mode": {
    "name": "ipython",
    "version": 3
   },
   "file_extension": ".py",
   "mimetype": "text/x-python",
   "name": "python",
   "nbconvert_exporter": "python",
   "pygments_lexer": "ipython3",
   "version": "3.7.0"
  }
 },
 "nbformat": 4,
 "nbformat_minor": 2
}
