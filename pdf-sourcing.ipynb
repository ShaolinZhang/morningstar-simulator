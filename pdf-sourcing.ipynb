{
 "cells": [
  {
   "cell_type": "code",
   "execution_count": 2,
   "metadata": {},
   "outputs": [],
   "source": [
    "from tika import parser\n",
    "from os import listdir\n",
    "from os.path import isfile, join\n",
    "import re\n",
    "from collections import defaultdict\n",
    "\n",
    "day = \"20180223\"\n",
    "path = \"source-pdf/\""
   ]
  },
  {
   "cell_type": "code",
   "execution_count": 3,
   "metadata": {},
   "outputs": [],
   "source": [
    "def retriveFiles(path):\n",
    "    return [join(path, f) for f in listdir(path) if isfile(join(path, f))]"
   ]
  },
  {
   "cell_type": "code",
   "execution_count": 4,
   "metadata": {},
   "outputs": [],
   "source": [
    "files = retriveFiles(path)"
   ]
  },
  {
   "cell_type": "code",
   "execution_count": 5,
   "metadata": {},
   "outputs": [],
   "source": [
    "import time\n",
    "from datetime import date"
   ]
  },
  {
   "cell_type": "code",
   "execution_count": 12,
   "metadata": {},
   "outputs": [],
   "source": [
    "def generateDates(files):\n",
    "    root = len(path)\n",
    "    res = []\n",
    "    for file in files:\n",
    "        dstr = file[root:root+8]\n",
    "        d = date(int(dstr[0:4]),int(dstr[4:6]),int(dstr[6:8]))\n",
    "        res.append(d)\n",
    "    return res\n",
    "\n",
    "def getDateObject(s):\n",
    "    return date(int(s[0:4]),int(s[5:7]),int(s[8:10]))"
   ]
  },
  {
   "cell_type": "code",
   "execution_count": 7,
   "metadata": {},
   "outputs": [],
   "source": [
    "days = generateDates(files)"
   ]
  },
  {
   "cell_type": "code",
   "execution_count": 8,
   "metadata": {},
   "outputs": [],
   "source": [
    "def retrieveRatings(files, day):\n",
    "    for file in files:\n",
    "        if day in file:\n",
    "            break\n",
    "    raw = parser.from_file(file)\n",
    "    pattern = '\\(.+\\) Q+'\n",
    "    data_pairs = re.findall(pattern, raw['content'])\n",
    "    res = defaultdict(int)\n",
    "    for data in data_pairs:\n",
    "        pair = data.split(' ');\n",
    "        res[pair[0][1:-1]] = len(pair[1])\n",
    "        \n",
    "    return res\n",
    "    "
   ]
  },
  {
   "cell_type": "code",
   "execution_count": 9,
   "metadata": {},
   "outputs": [
    {
     "data": {
      "text/plain": [
       "defaultdict(int,\n",
       "            {'CCJ': 5,\n",
       "             'CMP': 4,\n",
       "             'BT.A': 4,\n",
       "             '941': 5,\n",
       "             'QBR.B': 4,\n",
       "             'TEF': 4,\n",
       "             'TLS': 4,\n",
       "             'AAP': 4,\n",
       "             'BAP': 4,\n",
       "             'DMP': 4,\n",
       "             'GM': 4,\n",
       "             '2333': 4,\n",
       "             'HBI': 5,\n",
       "             'MAT': 4,\n",
       "             'SBUX': 4,\n",
       "             'IPG': 3,\n",
       "             'TRIP': 4,\n",
       "             'DIS': 4,\n",
       "             'WSM': 4,\n",
       "             'WPP': 4,\n",
       "             'CCL': 3,\n",
       "             'IMB': 5,\n",
       "             '4452': 4,\n",
       "             'MDLZ': 4,\n",
       "             'PG': 4,\n",
       "             'CVE': 5,\n",
       "             'ENB': 5,\n",
       "             'RDS.B': 4,\n",
       "             'RSPP': 4,\n",
       "             'TOT': 4,\n",
       "             'AIG': 4,\n",
       "             'G': 3,\n",
       "             'COF': 4,\n",
       "             'IVZ': 4,\n",
       "             '8306': 4,\n",
       "             'QBE': 4,\n",
       "             'AGN': 5,\n",
       "             'ESRX': 4,\n",
       "             'HSO': 4,\n",
       "             'MCK': 4,\n",
       "             'RHC': 4,\n",
       "             'ROG': 5,\n",
       "             'SHP': 5,\n",
       "             'AXE': 4,\n",
       "             '392': 4,\n",
       "             'BXB': 4,\n",
       "             '1': 4,\n",
       "             'FLR': 4,\n",
       "             'GFS': 4,\n",
       "             'G1A': 4,\n",
       "             '525': 4,\n",
       "             'JCI': 4,\n",
       "             'KGX': 4,\n",
       "             'PHIA': 4,\n",
       "             'SRCL': 4,\n",
       "             'AOG': 4,\n",
       "             'VNO': 4,\n",
       "             'GWRE': 4,\n",
       "             'KLAC': 3,\n",
       "             'MYO': 4,\n",
       "             'QCOM': 3,\n",
       "             'SABR': 4,\n",
       "             'CRM': 4,\n",
       "             'SYNA': 4,\n",
       "             '6762': 4,\n",
       "             '700': 3,\n",
       "             'D': 4,\n",
       "             'FE': 5,\n",
       "             'GAS': 4,\n",
       "             'SCG': 5})"
      ]
     },
     "execution_count": 9,
     "metadata": {},
     "output_type": "execute_result"
    }
   ],
   "source": [
    "retrieveRatings(files, day)"
   ]
  },
  {
   "cell_type": "code",
   "execution_count": 15,
   "metadata": {},
   "outputs": [
    {
     "name": "stdout",
     "output_type": "stream",
     "text": [
      "We are the 03, Aug 2018\n",
      "We are the 13, Jul 2018\n"
     ]
    }
   ],
   "source": [
    "from tkinter import *\n",
    "import tkinter as ttk\n",
    " \n",
    "root = Tk()\n",
    "root.title(\"Morningstar Stimulator\")\n",
    " \n",
    "# Add a grid\n",
    "mainframe = Frame(root)\n",
    "mainframe.grid(column=0,row=0, sticky=(N,W,E,S) )\n",
    "mainframe.columnconfigure(0, weight = 1)\n",
    "mainframe.rowconfigure(0, weight = 1)\n",
    "mainframe.pack(pady = 100, padx = 100)\n",
    " \n",
    "# Create a Tkinter variable\n",
    "tkvar = StringVar(root)\n",
    " \n",
    "# Dictionary with options\n",
    "choices = days\n",
    "tkvar.set('') # set the default option\n",
    " \n",
    "popupMenu = OptionMenu(mainframe, tkvar, *choices)\n",
    "Label(mainframe, text=\"Choose Date\").grid(row = 1, column = 1)\n",
    "popupMenu.grid(row = 2, column =1)\n",
    " \n",
    "# on change dropdown value\n",
    "def change_dropdown(*args):\n",
    "    tkvar.set(tkvar.get())\n",
    "    print( getDateObject(tkvar.get()).strftime('We are the %d, %b %Y') )\n",
    " \n",
    "# link function to change dropdown\n",
    "tkvar.trace('w', change_dropdown)\n",
    " \n",
    "root.mainloop()"
   ]
  },
  {
   "cell_type": "code",
   "execution_count": null,
   "metadata": {},
   "outputs": [],
   "source": []
  },
  {
   "cell_type": "code",
   "execution_count": null,
   "metadata": {},
   "outputs": [],
   "source": []
  }
 ],
 "metadata": {
  "kernelspec": {
   "display_name": "Python 3",
   "language": "python",
   "name": "python3"
  },
  "language_info": {
   "codemirror_mode": {
    "name": "ipython",
    "version": 3
   },
   "file_extension": ".py",
   "mimetype": "text/x-python",
   "name": "python",
   "nbconvert_exporter": "python",
   "pygments_lexer": "ipython3",
   "version": "3.7.0"
  }
 },
 "nbformat": 4,
 "nbformat_minor": 2
}
