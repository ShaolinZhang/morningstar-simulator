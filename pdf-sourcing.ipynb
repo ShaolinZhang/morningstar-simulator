{
 "cells": [
  {
   "cell_type": "code",
   "execution_count": 7,
   "metadata": {},
   "outputs": [],
   "source": [
    "from tika import parser\n",
    "import os\n",
    "from os import listdir\n",
    "from os.path import isfile, join\n",
    "import re\n",
    "from collections import defaultdict\n",
    "import time\n",
    "from datetime import date, timedelta\n",
    "import pandas as pd\n",
    "from pandas_datareader import data\n",
    "import matplotlib.pyplot as plt"
   ]
  },
  {
   "cell_type": "code",
   "execution_count": 36,
   "metadata": {},
   "outputs": [],
   "source": [
    "# hard-coded values\n",
    "# path of morningstar recommendations, pdfs\n",
    "path = \"process-pdf/\"\n",
    "# ticker of standard&poor's\n",
    "SNP = {'^GSPC': 0}\n",
    "\n",
    "#v alues from user input\n",
    "# day is input from drop box\n",
    "day = \"2018-02-23\"\n",
    "# traillngTime is input from check box\n",
    "traillngTime = 30\n",
    "# trading quantity: threeStarVolume, fourStarVolume, fiveStarVolume\n",
    "threeStarVolume = 0\n",
    "fourStarVolume = 0\n",
    "fiveStarVolume = 900\n",
    "\n",
    "#processed data\n",
    "day = ''.join(day.split('-'))\n",
    "report_date = date(int(day[0:4]),int(day[4:6]),int(day[6:8]))\n",
    "end_date = report_date+timedelta(days=traillngTime)\n",
    "shares = {0: 100, 3: threeStarVolume, 4: fourStarVolume, 5: fiveStarVolume}"
   ]
  },
  {
   "cell_type": "code",
   "execution_count": 37,
   "metadata": {},
   "outputs": [],
   "source": [
    "def retriveFiles(path):\n",
    "    return [join(path, f) for f in listdir(path) if isfile(join(path, f)) and 'DS_store' not in f]"
   ]
  },
  {
   "cell_type": "code",
   "execution_count": 38,
   "metadata": {},
   "outputs": [],
   "source": [
    "files = retriveFiles(path)"
   ]
  },
  {
   "cell_type": "code",
   "execution_count": 39,
   "metadata": {},
   "outputs": [],
   "source": [
    "# from PyPDF2 import PdfFileReader, PdfFileWriter\n",
    " \n",
    "# def pdf_splitter(path, name):\n",
    "#     fname = os.path.splitext(os.path.basename(path))[0]\n",
    " \n",
    "#     pdf = PdfFileReader(path)\n",
    "#     pdf_writer = PdfFileWriter()\n",
    "#     for page in range(pdf.getNumPages()):\n",
    "#         if page != 0:\n",
    "#             if \"Best Ideas\" in pdf.getPage(page).extractText():\n",
    "#                 pdf_writer.addPage(pdf.getPage(page))\n",
    "#     output_filename = '{}.pdf'.format(name)\n",
    "#     with open(output_filename, 'wb') as out:\n",
    "#         pdf_writer.write(out)"
   ]
  },
  {
   "cell_type": "code",
   "execution_count": 40,
   "metadata": {},
   "outputs": [],
   "source": [
    "def generateDates(files):\n",
    "    root = len(path)\n",
    "    res = []\n",
    "    for file in files:    \n",
    "        dstr = file[root:root+8]\n",
    "        d = date(int(dstr[0:4]),int(dstr[4:6]),int(dstr[6:8])).strftime(\"%Y-%m-%d\")\n",
    "        res.append(d)\n",
    "#         pdf_splitter(file, dstr)\n",
    "    return res"
   ]
  },
  {
   "cell_type": "code",
   "execution_count": 35,
   "metadata": {},
   "outputs": [],
   "source": [
    "days = generateDates(files)"
   ]
  },
  {
   "cell_type": "code",
   "execution_count": 8,
   "metadata": {},
   "outputs": [],
   "source": [
    "def retrieveRatings(files, day):\n",
    "    for file in files:\n",
    "        if day in file:\n",
    "            break\n",
    "    raw = parser.from_file(file)\n",
    "    pattern = '\\(.+\\) Q+'\n",
    "    data_pairs = re.findall(pattern, raw['content'])\n",
    "    res = defaultdict(int)\n",
    "    for data in data_pairs:\n",
    "        pair = data.split(' ');\n",
    "        res[pair[0][1:-1]] = len(pair[1])\n",
    "        \n",
    "    return res"
   ]
  },
  {
   "cell_type": "code",
   "execution_count": 9,
   "metadata": {},
   "outputs": [],
   "source": [
    "ticker_rating_pair = retrieveRatings(files, day)"
   ]
  },
  {
   "cell_type": "code",
   "execution_count": 10,
   "metadata": {},
   "outputs": [],
   "source": [
    "# # Define the instruments to download. We would like to see Apple, Microsoft and the S&P500 index.\n",
    "# tickers = ['0700', 'MSFT', '^GSPC']\n",
    "\n",
    "# # We would like all available data from 01/01/2000 until 12/31/2016.\n",
    "# report_date = datetime(2018, 3, 7)\n",
    "# end_date = datetime(2018, 3, 15)\n",
    "\n",
    "# # User pandas_reader.data.DataReader to load the desired data. As simple as that.\n",
    "# panel_data = data.DataReader('MSFT', 'yahoo', report_date, end_date)\n",
    "\n",
    "# for ticker in tickers:\n",
    "#     try:    \n",
    "#         print(ticker, data.DataReader(ticker, 'yahoo', report_date, end_date).iloc[0]['Close'], sep = \": $\")\n",
    "#     except:\n",
    "#         print(ticker, \" is not public traded in North America stock market, ignored...\", sep = \"\")"
   ]
  },
  {
   "cell_type": "code",
   "execution_count": 11,
   "metadata": {},
   "outputs": [],
   "source": [
    "# [pd.to_datetime(d).strftime(\"%m/%d/%Y\") for d in list(panel_data.index.values)]"
   ]
  },
  {
   "cell_type": "code",
   "execution_count": 24,
   "metadata": {},
   "outputs": [],
   "source": [
    "#get open and close prices from yahoo api\n",
    "#return dic {ticker: [rating, [price1, price2, ...]], ...}\n",
    "def getTickerPrices(report_date, end_date, ticker_rating_pair):\n",
    "    res = defaultdict(list)\n",
    "    for ticker, rating in ticker_rating_pair.items():\n",
    "        try:    \n",
    "            price_info = data.DataReader(ticker, 'yahoo', report_date, end_date)\n",
    "            prices = []\n",
    "            for i in range (price_info.shape[0]):\n",
    "                prices.append(price_info.iloc[i]['Close'])\n",
    "            res[ticker] = [rating, prices]\n",
    "        except:\n",
    "            print(ticker, \" is not public traded in North America stock market, ignored...\", sep = \"\")\n",
    "    return res"
   ]
  },
  {
   "cell_type": "code",
   "execution_count": 25,
   "metadata": {},
   "outputs": [
    {
     "name": "stdout",
     "output_type": "stream",
     "text": [
      "ESRX is not public traded in North America stock market, ignored...\n",
      "HSO is not public traded in North America stock market, ignored...\n",
      "RHC is not public traded in North America stock market, ignored...\n",
      "SHP is not public traded in North America stock market, ignored...\n",
      "392 is not public traded in North America stock market, ignored...\n",
      "BXB is not public traded in North America stock market, ignored...\n",
      "1 is not public traded in North America stock market, ignored...\n",
      "GFS is not public traded in North America stock market, ignored...\n",
      "G1A is not public traded in North America stock market, ignored...\n",
      "525 is not public traded in North America stock market, ignored...\n",
      "KGX is not public traded in North America stock market, ignored...\n",
      "PHIA is not public traded in North America stock market, ignored...\n",
      "AOG is not public traded in North America stock market, ignored...\n",
      "6762 is not public traded in North America stock market, ignored...\n",
      "700 is not public traded in North America stock market, ignored...\n",
      "GAS is not public traded in North America stock market, ignored...\n",
      "SCG is not public traded in North America stock market, ignored...\n"
     ]
    }
   ],
   "source": [
    "ticker_prices = getTickerPrices(report_date, end_date, ticker_rating_pair)\n",
    "snp_prices = getTickerPrices(report_date, end_date, SNP)"
   ]
  },
  {
   "cell_type": "code",
   "execution_count": 14,
   "metadata": {},
   "outputs": [],
   "source": [
    "#calculate daily profits\n",
    "#return list [profit1, profit2]\n",
    "#prices: dict {ticker: [rating, [price1, price2, ...]], ...}\n",
    "#shares: dict {3: quantity, 4: quantity, 5: quantity}\n",
    "\n",
    "def calculateProfits(ticker_prices, shares):\n",
    "    balance  = [0] * len(next(iter(ticker_prices.values()))[1])\n",
    "    \n",
    "    for ticker, ops in ticker_prices.items():\n",
    "        rating = ops[0]\n",
    "        prices = ops[1]\n",
    "        for i in range(len(balance)):\n",
    "            balance[i] = balance[i] + prices[i]*shares[rating]\n",
    "    profits_percentage = [0] * len(balance)\n",
    "    for i in range(len(balance)):\n",
    "        profits_percentage[i] = (balance[i]-balance[0])/balance[0]\n",
    "    return profits_percentage"
   ]
  },
  {
   "cell_type": "code",
   "execution_count": 15,
   "metadata": {},
   "outputs": [],
   "source": [
    "profits = calculateProfits(ticker_prices, shares)\n",
    "\n",
    "profits_snp = calculateProfits(snp_prices, shares)"
   ]
  },
  {
   "cell_type": "code",
   "execution_count": 16,
   "metadata": {},
   "outputs": [],
   "source": [
    "def getDealDays(report_date, end_date, ticker):\n",
    "    panel_data = data.DataReader(ticker, 'yahoo', report_date, end_date)\n",
    "    return [pd.to_datetime(d).strftime(\"%y/%m/%d\") for d in list(panel_data.index.values)]"
   ]
  },
  {
   "cell_type": "code",
   "execution_count": 17,
   "metadata": {},
   "outputs": [
    {
     "data": {
      "image/png": "[encoded data removed]",
      "text/plain": [
       "<Figure size 432x288 with 1 Axes>"
      ]
     },
     "metadata": {
      "needs_background": "light"
     },
     "output_type": "display_data"
    }
   ],
   "source": [
    "deal_days =  getDealDays(report_date, end_date, '^GSPC')\n",
    "l1, = plt.plot(deal_days,profits, label='Morningstar')\n",
    "l2, = plt.plot(deal_days,profits_snp, label='SNP')\n",
    "plt.legend(loc='upper right')\n",
    "plt.title('Title')\n",
    "plt.xlabel('Date')\n",
    "plt.ylabel('Return')\n",
    "plt.xticks(rotation=90)\n",
    "plt.show()"
   ]
  },
  {
   "cell_type": "code",
   "execution_count": 18,
   "metadata": {},
   "outputs": [],
   "source": [
    "def getFormatedTickerPrice(ticker_prices, shares):\n",
    "    s = \"Ticker Quantity Open_Price Close_Price\\n\"\n",
    "    for ticker, ops in ticker_prices.items():\n",
    "        ticker = \"{:<6}\".format(ticker)\n",
    "        rating = ops[0]\n",
    "        rating = \"{:<8}\".format(str(shares[rating]))\n",
    "        s = s + ticker + ' ' + rating\n",
    "        prices = ops[1]\n",
    "        open_price = \"{:<10}\".format( str(round(prices[0],2)) )\n",
    "        close_price = \"{:11}\".format( str(round(prices[-1],2)) )\n",
    "        s = s + ' '+  open_price +' '+ close_price\n",
    "        s = s+'\\n'\n",
    "    return s"
   ]
  },
  {
   "cell_type": "code",
   "execution_count": 19,
   "metadata": {},
   "outputs": [
    {
     "name": "stdout",
     "output_type": "stream",
     "text": [
      "Ticker Quantity Open_Price Close_Price\n",
      "AGN    900      162.09     160.2      \n",
      "MCK    0        152.65     139.29     \n",
      "ROG    900      160.53     126.67     \n",
      "AXE    0        78.15      75.15      \n",
      "FLR    0        58.15      56.32      \n",
      "JCI    0        38.82      34.94      \n",
      "SRCL   0        60.05      58.84      \n",
      "VNO    0        67.67      65.16      \n",
      "GWRE   0        81.18      83.29      \n",
      "KLAC   0        110.47     113.36     \n",
      "MYO    0        3.92       3.25       \n",
      "QCOM   0        63.32      56.13      \n",
      "SABR   0        23.81      21.88      \n",
      "CRM    0        114.96     118.97     \n",
      "SYNA   0        46.59      47.09      \n",
      "D      0        75.52      68.1       \n",
      "FE     900      33.8       33.99      \n",
      "\n"
     ]
    }
   ],
   "source": [
    "print(getFormatedTickerPrice(ticker_prices, shares))"
   ]
  }
 ],
 "metadata": {
  "kernelspec": {
   "display_name": "Python 3",
   "language": "python",
   "name": "python3"
  },
  "language_info": {
   "codemirror_mode": {
    "name": "ipython",
    "version": 3
   },
   "file_extension": ".py",
   "mimetype": "text/x-python",
   "name": "python",
   "nbconvert_exporter": "python",
   "pygments_lexer": "ipython3",
   "version": "3.7.0"
  }
 },
 "nbformat": 4,
 "nbformat_minor": 2
}
