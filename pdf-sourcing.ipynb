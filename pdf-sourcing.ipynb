{
 "cells": [
  {
   "cell_type": "code",
   "execution_count": 50,
   "metadata": {},
   "outputs": [],
   "source": [
    "from tika import parser\n",
    "from os import listdir\n",
    "from os.path import isfile, join\n",
    "import re\n",
    "from collections import defaultdict\n",
    "\n",
    "day = \"20180223\"\n",
    "path = \"source-pdf/\""
   ]
  },
  {
   "cell_type": "code",
   "execution_count": 51,
   "metadata": {},
   "outputs": [],
   "source": [
    "def retriveFiles(path):\n",
    "    return [join(path, f) for f in listdir(path) if isfile(join(path, f))]"
   ]
  },
  {
   "cell_type": "code",
   "execution_count": 52,
   "metadata": {},
   "outputs": [],
   "source": [
    "files = retriveFiles(path)"
   ]
  },
  {
   "cell_type": "code",
   "execution_count": 53,
   "metadata": {},
   "outputs": [],
   "source": [
    "import time\n",
    "from datetime import date"
   ]
  },
  {
   "cell_type": "code",
   "execution_count": 54,
   "metadata": {},
   "outputs": [],
   "source": [
    "def generateDates(files):\n",
    "    root = len(path)\n",
    "    res = []\n",
    "    for file in files:\n",
    "        dstr = file[root:root+8]\n",
    "        d = date(int(dstr[0:4]),int(dstr[4:6]),int(dstr[6:8]))\n",
    "        res.append(d)\n",
    "    return res\n",
    "\n",
    "def getDateObject(s):\n",
    "    return date(int(s[0:4]),int(s[5:7]),int(s[8:10]))"
   ]
  },
  {
   "cell_type": "code",
   "execution_count": 55,
   "metadata": {},
   "outputs": [],
   "source": [
    "days = generateDates(files)"
   ]
  },
  {
   "cell_type": "code",
   "execution_count": 56,
   "metadata": {},
   "outputs": [],
   "source": [
    "def retrieveRatings(files, day):\n",
    "    for file in files:\n",
    "        if day in file:\n",
    "            break\n",
    "    raw = parser.from_file(file)\n",
    "    pattern = '\\(.+\\) Q+'\n",
    "    data_pairs = re.findall(pattern, raw['content'])\n",
    "    res = defaultdict(int)\n",
    "    for data in data_pairs:\n",
    "        pair = data.split(' ');\n",
    "        res[pair[0][1:-1]] = len(pair[1])\n",
    "        \n",
    "    return res\n",
    "    "
   ]
  },
  {
   "cell_type": "code",
   "execution_count": 93,
   "metadata": {},
   "outputs": [],
   "source": [
    "ticker_rating_pair = retrieveRatings(files, day)"
   ]
  },
  {
   "cell_type": "code",
   "execution_count": 58,
   "metadata": {},
   "outputs": [],
   "source": [
    "from tkinter import *\n",
    "import tkinter as ttk\n",
    " \n",
    "root = Tk()\n",
    "root.title(\"Morningstar Stimulator\")\n",
    " \n",
    "# Add a grid\n",
    "mainframe = Frame(root)\n",
    "mainframe.grid(column=0,row=0, sticky=(N,W,E,S) )\n",
    "mainframe.columnconfigure(0, weight = 1)\n",
    "mainframe.rowconfigure(0, weight = 1)\n",
    "mainframe.pack(pady = 100, padx = 100)\n",
    " \n",
    "# Create a Tkinter variable\n",
    "tkvar = StringVar(root)\n",
    " \n",
    "# Dictionary with options\n",
    "choices = days\n",
    "tkvar.set('') # set the default option\n",
    " \n",
    "popupMenu = OptionMenu(mainframe, tkvar, *choices)\n",
    "Label(mainframe, text=\"Choose Date\").grid(row = 1, column = 1)\n",
    "popupMenu.grid(row = 2, column =1)\n",
    " \n",
    "# on change dropdown value\n",
    "def change_dropdown(*args):\n",
    "    tkvar.set(tkvar.get())\n",
    "    print( getDateObject(tkvar.get()).strftime('We are the %d, %b %Y') )\n",
    " \n",
    "# link function to change dropdown\n",
    "tkvar.trace('w', change_dropdown)\n",
    " \n",
    "root.mainloop()"
   ]
  },
  {
   "cell_type": "code",
   "execution_count": 59,
   "metadata": {},
   "outputs": [],
   "source": [
    "from pandas_datareader import data\n",
    "import matplotlib.pyplot as plt\n",
    "import pandas as pd\n",
    "from datetime import datetime"
   ]
  },
  {
   "cell_type": "code",
   "execution_count": 89,
   "metadata": {},
   "outputs": [
    {
     "name": "stdout",
     "output_type": "stream",
     "text": [
      "0700 is not public traded in North America stock market, ignored...\n",
      "MSFT: $93.86000061035156\n",
      "^GSPC: $2726.800048828125\n"
     ]
    }
   ],
   "source": [
    "# Define the instruments to download. We would like to see Apple, Microsoft and the S&P500 index.\n",
    "tickers = ['0700', 'MSFT', '^GSPC']\n",
    "\n",
    "# We would like all available data from 01/01/2000 until 12/31/2016.\n",
    "report_date = datetime(2018, 3, 7)\n",
    "end_date = datetime(2018, 3, 15)\n",
    "\n",
    "# User pandas_reader.data.DataReader to load the desired data. As simple as that.\n",
    "panel_data = data.DataReader('MSFT', 'yahoo', report_date, end_date)\n",
    "\n",
    "for ticker in tickers:\n",
    "    try:    \n",
    "        print(ticker, data.DataReader(ticker, 'yahoo', report_date, end_date).iloc[0]['Close'], sep = \": $\")\n",
    "    except:\n",
    "        print(ticker, \" is not public traded in North America stock market, ignored...\", sep = \"\")\n",
    "\n",
    "\n"
   ]
  },
  {
   "cell_type": "code",
   "execution_count": 90,
   "metadata": {},
   "outputs": [
    {
     "data": {
      "text/html": [
       "<div>\n",
       "<style scoped>\n",
       "    .dataframe tbody tr th:only-of-type {\n",
       "        vertical-align: middle;\n",
       "    }\n",
       "\n",
       "    .dataframe tbody tr th {\n",
       "        vertical-align: top;\n",
       "    }\n",
       "\n",
       "    .dataframe thead th {\n",
       "        text-align: right;\n",
       "    }\n",
       "</style>\n",
       "<table border=\"1\" class=\"dataframe\">\n",
       "  <thead>\n",
       "    <tr style=\"text-align: right;\">\n",
       "      <th></th>\n",
       "      <th>High</th>\n",
       "      <th>Low</th>\n",
       "      <th>Open</th>\n",
       "      <th>Close</th>\n",
       "      <th>Volume</th>\n",
       "      <th>Adj Close</th>\n",
       "    </tr>\n",
       "    <tr>\n",
       "      <th>Date</th>\n",
       "      <th></th>\n",
       "      <th></th>\n",
       "      <th></th>\n",
       "      <th></th>\n",
       "      <th></th>\n",
       "      <th></th>\n",
       "    </tr>\n",
       "  </thead>\n",
       "  <tbody>\n",
       "    <tr>\n",
       "      <th>2018-03-07</th>\n",
       "      <td>93.940002</td>\n",
       "      <td>92.430000</td>\n",
       "      <td>93.160004</td>\n",
       "      <td>93.860001</td>\n",
       "      <td>26716100</td>\n",
       "      <td>92.302025</td>\n",
       "    </tr>\n",
       "    <tr>\n",
       "      <th>2018-03-08</th>\n",
       "      <td>95.099998</td>\n",
       "      <td>93.769997</td>\n",
       "      <td>94.269997</td>\n",
       "      <td>94.430000</td>\n",
       "      <td>25887800</td>\n",
       "      <td>92.862556</td>\n",
       "    </tr>\n",
       "    <tr>\n",
       "      <th>2018-03-09</th>\n",
       "      <td>96.540001</td>\n",
       "      <td>95.000000</td>\n",
       "      <td>95.290001</td>\n",
       "      <td>96.540001</td>\n",
       "      <td>36937300</td>\n",
       "      <td>94.937538</td>\n",
       "    </tr>\n",
       "    <tr>\n",
       "      <th>2018-03-12</th>\n",
       "      <td>97.209999</td>\n",
       "      <td>96.040001</td>\n",
       "      <td>96.500000</td>\n",
       "      <td>96.769997</td>\n",
       "      <td>26073700</td>\n",
       "      <td>95.163712</td>\n",
       "    </tr>\n",
       "    <tr>\n",
       "      <th>2018-03-13</th>\n",
       "      <td>97.239998</td>\n",
       "      <td>93.970001</td>\n",
       "      <td>97.000000</td>\n",
       "      <td>94.410004</td>\n",
       "      <td>35387800</td>\n",
       "      <td>92.842896</td>\n",
       "    </tr>\n",
       "    <tr>\n",
       "      <th>2018-03-14</th>\n",
       "      <td>95.410004</td>\n",
       "      <td>93.500000</td>\n",
       "      <td>95.120003</td>\n",
       "      <td>93.849998</td>\n",
       "      <td>32132000</td>\n",
       "      <td>92.292183</td>\n",
       "    </tr>\n",
       "    <tr>\n",
       "      <th>2018-03-15</th>\n",
       "      <td>94.580002</td>\n",
       "      <td>92.830002</td>\n",
       "      <td>93.529999</td>\n",
       "      <td>94.180000</td>\n",
       "      <td>27611000</td>\n",
       "      <td>92.616714</td>\n",
       "    </tr>\n",
       "    <tr>\n",
       "      <th>2018-03-16</th>\n",
       "      <td>95.379997</td>\n",
       "      <td>93.919998</td>\n",
       "      <td>94.680000</td>\n",
       "      <td>94.599998</td>\n",
       "      <td>49081300</td>\n",
       "      <td>93.029739</td>\n",
       "    </tr>\n",
       "    <tr>\n",
       "      <th>2018-03-19</th>\n",
       "      <td>93.900002</td>\n",
       "      <td>92.110001</td>\n",
       "      <td>93.739998</td>\n",
       "      <td>92.889999</td>\n",
       "      <td>33344100</td>\n",
       "      <td>91.348114</td>\n",
       "    </tr>\n",
       "    <tr>\n",
       "      <th>2018-03-20</th>\n",
       "      <td>93.769997</td>\n",
       "      <td>93.000000</td>\n",
       "      <td>93.050003</td>\n",
       "      <td>93.129997</td>\n",
       "      <td>23075200</td>\n",
       "      <td>91.584137</td>\n",
       "    </tr>\n",
       "    <tr>\n",
       "      <th>2018-03-21</th>\n",
       "      <td>94.050003</td>\n",
       "      <td>92.209999</td>\n",
       "      <td>92.930000</td>\n",
       "      <td>92.480003</td>\n",
       "      <td>24457100</td>\n",
       "      <td>90.944923</td>\n",
       "    </tr>\n",
       "  </tbody>\n",
       "</table>\n",
       "</div>"
      ],
      "text/plain": [
       "                 High        Low       Open      Close    Volume  Adj Close\n",
       "Date                                                                       \n",
       "2018-03-07  93.940002  92.430000  93.160004  93.860001  26716100  92.302025\n",
       "2018-03-08  95.099998  93.769997  94.269997  94.430000  25887800  92.862556\n",
       "2018-03-09  96.540001  95.000000  95.290001  96.540001  36937300  94.937538\n",
       "2018-03-12  97.209999  96.040001  96.500000  96.769997  26073700  95.163712\n",
       "2018-03-13  97.239998  93.970001  97.000000  94.410004  35387800  92.842896\n",
       "2018-03-14  95.410004  93.500000  95.120003  93.849998  32132000  92.292183\n",
       "2018-03-15  94.580002  92.830002  93.529999  94.180000  27611000  92.616714\n",
       "2018-03-16  95.379997  93.919998  94.680000  94.599998  49081300  93.029739\n",
       "2018-03-19  93.900002  92.110001  93.739998  92.889999  33344100  91.348114\n",
       "2018-03-20  93.769997  93.000000  93.050003  93.129997  23075200  91.584137\n",
       "2018-03-21  94.050003  92.209999  92.930000  92.480003  24457100  90.944923"
      ]
     },
     "execution_count": 90,
     "metadata": {},
     "output_type": "execute_result"
    }
   ],
   "source": [
    "panel_data"
   ]
  },
  {
   "cell_type": "code",
   "execution_count": 104,
   "metadata": {},
   "outputs": [],
   "source": [
    "#get open and close prices from yahoo api\n",
    "#return dic {ticker: [rating, [price1, price2, ...]], ...}\n",
    "def getOpenClosePrices(report_date, end_date, ticker_rating_pair):\n",
    "    res = defaultdict(list)\n",
    "    for ticker, rating in ticker_rating_pair.items():\n",
    "        try:    \n",
    "            price_info = data.DataReader(ticker, 'yahoo', report_date, end_date)\n",
    "            prices = []\n",
    "            for i in range (price_info.shape[0]):\n",
    "                prices.append(price_info.iloc[0]['Close'])\n",
    "            res[ticker] = [rating, prices]\n",
    "        except:\n",
    "            print(ticker, \" is not public traded in North America stock market, ignored...\", sep = \"\")\n",
    "    return res"
   ]
  },
  {
   "cell_type": "code",
   "execution_count": 107,
   "metadata": {},
   "outputs": [],
   "source": [
    "ticker_rating_pair = {'0700': 3, 'MSFT': 3, '^GSPC': 3}\n"
   ]
  },
  {
   "cell_type": "code",
   "execution_count": 110,
   "metadata": {},
   "outputs": [
    {
     "name": "stdout",
     "output_type": "stream",
     "text": [
      "0700 is not public traded in North America stock market, ignored...\n"
     ]
    }
   ],
   "source": [
    "ticker_prices = getOpenClosePrices(report_date, end_date, ticker_rating_pair)"
   ]
  },
  {
   "cell_type": "code",
   "execution_count": null,
   "metadata": {},
   "outputs": [],
   "source": [
    "#calculate daily profits\n",
    "#return list [profit1, profit2]\n",
    "#prices: dict {ticker: [rating, [price1, price2, ...]], ...}\n",
    "#shares: dict {3: quantity, 4: quantity, 5: quantity}\n",
    "shares = [3: 300, 4: 400, 5: 500]\n",
    "def calculateProfits(ticker_prices, shares):\n",
    "    profits  = []\n",
    "    for ticker, ops in ticker_prices.items:\n",
    "        rating = ops[0]\n",
    "        prices = ops[1]\n",
    "        for i in range(len(prices)):\n",
    "            profits[i] = (prices[i+1] - prices[0])*shares[rating]"
   ]
  }
 ],
 "metadata": {
  "kernelspec": {
   "display_name": "Python 3",
   "language": "python",
   "name": "python3"
  },
  "language_info": {
   "codemirror_mode": {
    "name": "ipython",
    "version": 3
   },
   "file_extension": ".py",
   "mimetype": "text/x-python",
   "name": "python",
   "nbconvert_exporter": "python",
   "pygments_lexer": "ipython3",
   "version": "3.7.0"
  }
 },
 "nbformat": 4,
 "nbformat_minor": 2
}
