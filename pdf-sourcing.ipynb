{
 "cells": [
  {
   "cell_type": "code",
   "execution_count": 129,
   "metadata": {},
   "outputs": [],
   "source": [
    "from tika import parser\n",
    "from os import listdir\n",
    "from os.path import isfile, join\n",
    "import re\n",
    "from collections import defaultdict\n",
    "\n",
    "date = \"20180223\"\n",
    "path = \"source-pdf/\""
   ]
  },
  {
   "cell_type": "code",
   "execution_count": 130,
   "metadata": {},
   "outputs": [],
   "source": [
    "def retriveFiles(path):\n",
    "    files = [f for f in listdir(path) if isfile(join(path, f))]"
   ]
  },
  {
   "cell_type": "code",
   "execution_count": 135,
   "metadata": {},
   "outputs": [],
   "source": [
    "files = retriveFiles(path)"
   ]
  },
  {
   "cell_type": "code",
   "execution_count": 138,
   "metadata": {},
   "outputs": [
    {
     "ename": "SyntaxError",
     "evalue": "unexpected EOF while parsing (<ipython-input-138-b04bba922d88>, line 2)",
     "output_type": "error",
     "traceback": [
      "\u001b[0;36m  File \u001b[0;32m\"<ipython-input-138-b04bba922d88>\"\u001b[0;36m, line \u001b[0;32m2\u001b[0m\n\u001b[0;31m    for file in files:\u001b[0m\n\u001b[0m                      ^\u001b[0m\n\u001b[0;31mSyntaxError\u001b[0m\u001b[0;31m:\u001b[0m unexpected EOF while parsing\n"
     ]
    }
   ],
   "source": [
    "def createDataRange(files):\n",
    "    for file in files:\n",
    "        "
   ]
  },
  {
   "cell_type": "code",
   "execution_count": 136,
   "metadata": {},
   "outputs": [],
   "source": [
    "def retrieveRatings(files, date):\n",
    "    for file in files:\n",
    "        if date in file:\n",
    "            break\n",
    "    raw = parser.from_file(filename)\n",
    "    pattern = '\\(.+\\) Q+'\n",
    "    data_pairs = re.findall(pattern, raw['content'])\n",
    "    res = defaultdict(int)\n",
    "    for data in data_pairs:\n",
    "        pair = data.split(' ');\n",
    "        res[pair[0][1:-1]] = len(pair[1])\n",
    "        \n",
    "    return res\n",
    "    "
   ]
  },
  {
   "cell_type": "code",
   "execution_count": 137,
   "metadata": {},
   "outputs": [
    {
     "data": {
      "text/plain": [
       "defaultdict(int,\n",
       "            {'CCJ': 5,\n",
       "             'CMP': 4,\n",
       "             'BT.A': 4,\n",
       "             '941': 5,\n",
       "             'QBR.B': 4,\n",
       "             'TEF': 4,\n",
       "             'TLS': 4,\n",
       "             'AAP': 4,\n",
       "             'BAP': 4,\n",
       "             'DMP': 4,\n",
       "             'GM': 4,\n",
       "             '2333': 4,\n",
       "             'HBI': 5,\n",
       "             'MAT': 4,\n",
       "             'SBUX': 4,\n",
       "             'IPG': 3,\n",
       "             'TRIP': 4,\n",
       "             'DIS': 4,\n",
       "             'WSM': 4,\n",
       "             'WPP': 4,\n",
       "             'CCL': 3,\n",
       "             'IMB': 5,\n",
       "             '4452': 4,\n",
       "             'MDLZ': 4,\n",
       "             'PG': 4,\n",
       "             'CVE': 5,\n",
       "             'ENB': 5,\n",
       "             'RDS.B': 4,\n",
       "             'RSPP': 4,\n",
       "             'TOT': 4,\n",
       "             'AIG': 4,\n",
       "             'G': 3,\n",
       "             'COF': 4,\n",
       "             'IVZ': 4,\n",
       "             '8306': 4,\n",
       "             'QBE': 4,\n",
       "             'AGN': 5,\n",
       "             'ESRX': 4,\n",
       "             'HSO': 4,\n",
       "             'MCK': 4,\n",
       "             'RHC': 4,\n",
       "             'ROG': 5,\n",
       "             'SHP': 5,\n",
       "             'AXE': 4,\n",
       "             '392': 4,\n",
       "             'BXB': 4,\n",
       "             '1': 4,\n",
       "             'FLR': 4,\n",
       "             'GFS': 4,\n",
       "             'G1A': 4,\n",
       "             '525': 4,\n",
       "             'JCI': 4,\n",
       "             'KGX': 4,\n",
       "             'PHIA': 4,\n",
       "             'SRCL': 4,\n",
       "             'AOG': 4,\n",
       "             'VNO': 4,\n",
       "             'GWRE': 4,\n",
       "             'KLAC': 3,\n",
       "             'MYO': 4,\n",
       "             'QCOM': 3,\n",
       "             'SABR': 4,\n",
       "             'CRM': 4,\n",
       "             'SYNA': 4,\n",
       "             '6762': 4,\n",
       "             '700': 3,\n",
       "             'D': 4,\n",
       "             'FE': 5,\n",
       "             'GAS': 4,\n",
       "             'SCG': 5})"
      ]
     },
     "execution_count": 137,
     "metadata": {},
     "output_type": "execute_result"
    }
   ],
   "source": [
    "retrieveRatings(path, date)"
   ]
  },
  {
   "cell_type": "code",
   "execution_count": null,
   "metadata": {},
   "outputs": [
    {
     "name": "stdout",
     "output_type": "stream",
     "text": [
      "Fries\n",
      "Fries\n",
      "Pizza\n",
      "Fish\n",
      "Lasagne\n",
      "Fries\n"
     ]
    }
   ],
   "source": [
    "from tkinter import *\n",
    "import tkinter as ttk\n",
    "\n",
    " \n",
    "root = Tk()\n",
    "root.title(\"Tk dropdown example\")\n",
    " \n",
    "# Add a grid\n",
    "mainframe = Frame(root)\n",
    "mainframe.grid(column=0,row=0, sticky=(N,W,E,S) )\n",
    "mainframe.columnconfigure(0, weight = 1)\n",
    "mainframe.rowconfigure(0, weight = 1)\n",
    "mainframe.pack(pady = 100, padx = 100)\n",
    " \n",
    "# Create a Tkinter variable\n",
    "tkvar = StringVar(root)\n",
    " \n",
    "# Dictionary with options\n",
    "choices = { 'Pizza','Lasagne','Fries','Fish','Potatoe'}\n",
    "tkvar.set('Pizza') # set the default option\n",
    " \n",
    "popupMenu = OptionMenu(mainframe, tkvar, *choices)\n",
    "Label(mainframe, text=\"Choose a dish\").grid(row = 1, column = 1)\n",
    "popupMenu.grid(row = 2, column =1)\n",
    " \n",
    "# on change dropdown value\n",
    "def change_dropdown(*args):\n",
    "    print( tkvar.get() )\n",
    " \n",
    "# link function to change dropdown\n",
    "tkvar.trace('w', change_dropdown)\n",
    " \n",
    "root.mainloop()"
   ]
  },
  {
   "cell_type": "code",
   "execution_count": null,
   "metadata": {},
   "outputs": [],
   "source": []
  },
  {
   "cell_type": "code",
   "execution_count": null,
   "metadata": {},
   "outputs": [],
   "source": []
  }
 ],
 "metadata": {
  "kernelspec": {
   "display_name": "Python 3",
   "language": "python",
   "name": "python3"
  },
  "language_info": {
   "codemirror_mode": {
    "name": "ipython",
    "version": 3
   },
   "file_extension": ".py",
   "mimetype": "text/x-python",
   "name": "python",
   "nbconvert_exporter": "python",
   "pygments_lexer": "ipython3",
   "version": "3.7.0"
  }
 },
 "nbformat": 4,
 "nbformat_minor": 2
}
