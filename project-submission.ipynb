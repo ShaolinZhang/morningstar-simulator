{
 "cells": [
  {
   "cell_type": "markdown",
   "metadata": {},
   "source": [
    "# Morningstar Simulator\n",
    "*Shaolin Zhang (sz2804)* and *Yulong Li (yl4095)*\n"
   ]
  },
  {
   "cell_type": "markdown",
   "metadata": {},
   "source": [
    "# If you did a project with a partner, fill in this cell\n",
    "\n",
    "\n",
    "- name1: Shaolin Zhang\n",
    "- UNI1: sz2804\n",
    "\n",
    "\n",
    "- name2: Yulong Li\n",
    "- UNI2: yl4095\n",
    "\n",
    "\n",
    "- Contributions:\n",
    "    - Shaolin Zhang implemented the finance API to get quote data from Yahoo Finance. Additionally, he integrated all functions to GUI, implemented GUI and callback functions, and tested like a hundred time till he finally has a bug-free program.\n",
    "    - Yulong Li processed the source pdf files to retrieve relevant pages, subsequently retrieving stock data and storing it in a dict. He then make calculations based on user inputs and output formatted string data and a line chart.\n",
    "\n",
    "\n",
    "Each of you should submit the SAME zip file named   \n",
    "'UNI1-UNI2.zip' to CW2. The zip should include this notebook, your source, documentation, and data files. The zip must expand into a directory named 'UNI1-UNI2', and all your files should be under the UNI1-UNI2 directory.\n"
   ]
  },
  {
   "cell_type": "markdown",
   "metadata": {},
   "source": [
    "# What does your project do?\n",
    "\n",
    "Morningstar Simulator is a simulator program that harnesses data from the famed Morningstar Weekly Best Ideas, a stock market recommendation PDF containing a summary of their weekly research into the market. Morningstar is a global financial services firm that provides a wide array of investment research and investment management services.\n",
    "\n",
    "This project simulates different market strategies based on Morningstar's recommendations.\n",
    "\n",
    "Technologies used in this project include the following:\n",
    "\n",
    "- tika: retrieve data from source pdfs\n",
    "- TKinter: GUI\n",
    "- matplotlib: graph performace data\n",
    "- Pillow: image processing\n",
    "- Yahoo Finance API: extracting time-series data of stocks"
   ]
  },
  {
   "cell_type": "markdown",
   "metadata": {},
   "source": [
    "# Architecture\n",
    "\n",
    "The single program\n",
    "    - takes user inputs (data range, trailing time, investment strategies) though GUI\n",
    "    - pull in data from processed pdf files\n",
    "    - process data with pandas\n",
    "    - plot data with matplotlib and display on GUI\n"
   ]
  },
  {
   "cell_type": "markdown",
   "metadata": {},
   "source": [
    "# What modules did you import, if any?\n",
    "\n"
   ]
  },
  {
   "cell_type": "code",
   "execution_count": null,
   "metadata": {},
   "outputs": [],
   "source": [
    "import os\n",
    "import re\n",
    "import time\n",
    "\n",
    "from tika import parser\n",
    "from os import listdir\n",
    "from os.path import isfile, join\n",
    "from collections import defaultdict\n",
    "from datetime import date, datetime\n",
    "from pandas_datareader import data\n",
    "from datetime import timedelta\n",
    "from pandas import DataFrame\n",
    "from tkinter import *\n",
    "from tkinter import ttk\n",
    "\n",
    "import matplotlib.pyplot as plt\n",
    "import pandas as pd\n",
    "import matplotlib\n",
    "import tkinter.scrolledtext as tkst\n",
    "import numpy as np\n",
    "import tkinter as tk\n",
    "import PIL.Image\n",
    "import PIL.ImageTk"
   ]
  },
  {
   "cell_type": "markdown",
   "metadata": {},
   "source": [
    "# Attribution\n",
    "- if you take ideas and/or code from a book or website you must\n",
    "    - Remote Data Access https://pandas-datareader.readthedocs.io/en/latest/remote_data.html\n",
    "    - Splitting and Merging PDFs with Python https://www.blog.pythonlibrary.org/2018/04/11/splitting-and-merging-pdfs-with-python/"
   ]
  },
  {
   "cell_type": "markdown",
   "metadata": {},
   "source": [
    "# Explain how we can run your project\n",
    "After installing all the packages, open morningstar_stimulator.py with python3 installed.\n",
    "\n",
    "\n"
   ]
  },
  {
   "cell_type": "markdown",
   "metadata": {},
   "source": [
    "# An evaluation of Python's suitability to your task\n",
    "- GUI with python sucks\n",
    "- Data processing is pretty cool\n",
    "        \n"
   ]
  },
  {
   "cell_type": "markdown",
   "metadata": {},
   "source": [
    "# Extra Information\n",
    "\n",
    "**We have already demo-ed our project to Professor Stead on April 4, 2019.**\n"
   ]
  },
  {
   "cell_type": "code",
   "execution_count": null,
   "metadata": {},
   "outputs": [],
   "source": []
  }
 ],
 "metadata": {
  "kernelspec": {
   "display_name": "Python 3",
   "language": "python",
   "name": "python3"
  },
  "language_info": {
   "codemirror_mode": {
    "name": "ipython",
    "version": 3
   },
   "file_extension": ".py",
   "mimetype": "text/x-python",
   "name": "python",
   "nbconvert_exporter": "python",
   "pygments_lexer": "ipython3",
   "version": "3.7.0"
  }
 },
 "nbformat": 4,
 "nbformat_minor": 1
}
