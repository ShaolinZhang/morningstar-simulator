{
 "cells": [
  {
   "cell_type": "markdown",
   "metadata": {},
   "source": [
    "# Morningstar Simulator\n",
    "*Shaolin Zhang (sz2804)* and *Yulong Li (yl4095)*\n"
   ]
  },
  {
   "cell_type": "markdown",
   "metadata": {},
   "source": [
    "# If you did a project with a partner, fill in this cell\n",
    "\n",
    "\n",
    "- name1: Shaolin Zhang\n",
    "- UNI1: sz2804\n",
    "\n",
    "\n",
    "- name2: Yulong Li\n",
    "- UNI2: yl4095\n",
    "\n",
    "\n",
    "- Contributions:\n",
    "    - Yulong Li processed the source pdf files to retrieve relevant pages, subsequently retrieving stock data and storing it in a dict. He then make calculations based on user inputs and output formatted string data and a line chart.\n",
    "\n",
    "\n",
    "Each of you should submit the SAME zip file named   \n",
    "'UNI1-UNI2.zip' to CW2. The zip should include this notebook, your source, documentation, and data files. The zip must expand into a directory named 'UNI1-UNI2', and all your files should be under the UNI1-UNI2 directory.\n"
   ]
  },
  {
   "cell_type": "markdown",
   "metadata": {},
   "source": [
    "# What does your project do?\n",
    "\n",
    "Morningstar Simulator is a simulator program that harnesses data from the famed Morningstar Weekly Best Ideas, a stock market recommendation PDF containing a summary of their weekly research into the market. Morningstar is a global financial services firm that provides a wide array of investment research and investment management services.\n",
    "\n",
    "This project simulates different market strategies based on Morningstar's recommendations.\n",
    "\n",
    "Technologies used in this project include the following:\n",
    "\n",
    "- PyPDF2: extracting texts from PDFs\n",
    "- numpy: processing raw data extracted from PyPDF2 into sorted data including stock ticker, rating, target price and more\n",
    "- Google Yahoo API: extracting time-series data of stocks"
   ]
  },
  {
   "cell_type": "markdown",
   "metadata": {},
   "source": [
    "# Architecture\n",
    "\n"
   ]
  },
  {
   "cell_type": "markdown",
   "metadata": {},
   "source": [
    "# What modules did you import, if any?\n",
    "\n"
   ]
  },
  {
   "cell_type": "markdown",
   "metadata": {},
   "source": [
    "# Attribution\n",
    "- if you take ideas and/or code from a book or website you must\n",
    "    - Remote Data Access https://pandas-datareader.readthedocs.io/en/latest/remote_data.html\n",
    "    - Splitting and Merging PDFs with Python https://www.blog.pythonlibrary.org/2018/04/11/splitting-and-merging-pdfs-with-python/"
   ]
  },
  {
   "cell_type": "markdown",
   "metadata": {},
   "source": [
    "# Explain how we can run your project\n",
    "- Make sure you include all python and data files\n",
    "- If your project has graphics, include some snapshots\n",
    "- Any documentation should be written in a jupyter notebook\n",
    "    - do NOT submit ASCII/plain text, PDFs, Word files, etc.\n",
    "- If for some reason it is not feasible for us to run your project, make an appointment with Larry to demo it\n",
    "\n",
    "\n"
   ]
  },
  {
   "cell_type": "markdown",
   "metadata": {},
   "source": [
    "# An evaluation of Python's suitability to your task\n",
    "- GUI with python sucks\n",
    "- Data processing is pretty cool\n",
    "        \n"
   ]
  },
  {
   "cell_type": "code",
   "execution_count": null,
   "metadata": {},
   "outputs": [],
   "source": []
  }
 ],
 "metadata": {
  "kernelspec": {
   "display_name": "Python 3",
   "language": "python",
   "name": "python3"
  },
  "language_info": {
   "codemirror_mode": {
    "name": "ipython",
    "version": 3
   },
   "file_extension": ".py",
   "mimetype": "text/x-python",
   "name": "python",
   "nbconvert_exporter": "python",
   "pygments_lexer": "ipython3",
   "version": "3.7.0"
  }
 },
 "nbformat": 4,
 "nbformat_minor": 1
}
